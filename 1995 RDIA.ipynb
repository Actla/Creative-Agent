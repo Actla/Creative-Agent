{
 "cells": [
  {
   "cell_type": "markdown",
   "metadata": {},
   "source": [
    "based on the paper __1995 StorckHochreiterSchmidhuber - Reinforcement driven information acquisition in nondeterministc environments__"
   ]
  },
  {
   "cell_type": "code",
   "execution_count": 27,
   "metadata": {
    "collapsed": false
   },
   "outputs": [
    {
     "name": "stdout",
     "output_type": "stream",
     "text": [
      "[[ 0.65734076  0.97013582  0.36317169  0.74933843  0.        ]\n",
      " [ 0.44404809 -0.10221963  0.24533043 -0.42907415  0.        ]]\n",
      "\n",
      "\n",
      "[[0 0 0 0]\n",
      " [0 0 0 0]]\n",
      "\n",
      "\n",
      "(3, 2, 2)\n",
      "[[[ 0.          1.        ]\n",
      "  [ 1.          0.        ]]\n",
      "\n",
      " [[ 0.          1.        ]\n",
      "  [ 0.24074908  0.75925092]]\n",
      "\n",
      " [[ 0.          1.        ]\n",
      "  [ 1.          0.        ]]]\n",
      "\n",
      "\n",
      "(3, 2, 2)\n"
     ]
    }
   ],
   "source": [
    "import mdptoolbox, mdptoolbox.example\n",
    "\n",
    "n_states = 2; n_actions = 3\n",
    "P, R = mdptoolbox.example.rand(n_states, n_actions)\n",
    "fh = mdptoolbox.mdp.FiniteHorizon(P, R, 0.9, 4)\n",
    "fh.run()\n",
    "print fh.V\n",
    "print\n",
    "print\n",
    "print fh.policy\n",
    "print\n",
    "print\n",
    "print P.shape\n",
    "print P\n",
    "print\n",
    "print\n",
    "print R.shape"
   ]
  },
  {
   "cell_type": "code",
   "execution_count": 39,
   "metadata": {
    "collapsed": false
   },
   "outputs": [],
   "source": [
    "import numpy as np\n",
    "\n",
    " \n",
    "def prob_ijk(at,St,Stplus,c_ijk):\n",
    "    c_ij = np.sum(c_ijk[at,St,:])\n",
    "    p_ijk = c_ijk[at,St,:]/c_ij\n",
    "    \n",
    "    if c_ij == 0:\n",
    "        p_ijk = c_ijk[at,St,:]*0\n",
    "    return p_ijk\n",
    "    \n",
    "def information_gain_D(at,St,Stplus,c_ijk):\n",
    "    p_ijk_t = prob_ijk(at,St,Stplus,c_ijk)\n",
    "    \n",
    "    c_ijk[at,St,Stplus] += 1\n",
    "    p_ijt_tplus = prob_ijk(at,St,Stplus,c_ijk)\n",
    "    return sum(abs(p_ijt_tplus-p_ijk_t))    \n",
    "    \n",
    "def update_Q(Q,at,St,Stplus,c_ijk):\n",
    "    alpha = .5\n",
    "    gamma = .45\n",
    "    D = information_gain_D(at,St,Stplus,c_ijk)\n",
    "    maxQ = max(Q[:,Stplus])\n",
    "    Q = (1-alpha)*Q[at,St] + alpha*(D+gamma*maxQ)      \n",
    "    return Q"
   ]
  },
  {
   "cell_type": "code",
   "execution_count": 86,
   "metadata": {
    "collapsed": false
   },
   "outputs": [
    {
     "name": "stdout",
     "output_type": "stream",
     "text": [
      "[[[ 0.          1.        ]\n",
      "  [ 1.          0.        ]]\n",
      "\n",
      " [[ 0.          1.        ]\n",
      "  [ 0.24074908  0.75925092]]\n",
      "\n",
      " [[ 0.          1.        ]\n",
      "  [ 1.          0.        ]]]\n",
      "\n",
      "\n",
      "[[[ 0.          1.        ]\n",
      "  [ 1.          0.        ]]\n",
      "\n",
      " [[ 0.          1.        ]\n",
      "  [ 0.23923445  0.76076555]]\n",
      "\n",
      " [[ 0.          1.        ]\n",
      "  [ 1.          0.        ]]]\n"
     ]
    },
    {
     "name": "stderr",
     "output_type": "stream",
     "text": [
      "/usr/lib/python2.7/site-packages/ipykernel/__main__.py:8: RuntimeWarning: invalid value encountered in divide\n"
     ]
    }
   ],
   "source": [
    "from itertools import product\n",
    "from __future__ import division\n",
    "\n",
    "terminal_time = 1000\n",
    "epsilon = .5\n",
    "Q = np.zeros((n_actions,n_states))\n",
    "c_ijk = np.zeros((n_actions, n_states, n_states))\n",
    "P_experimental = np.zeros((n_actions, n_states, n_states))\n",
    "\n",
    "# start from a random place\n",
    "St = np.random.randint(0, n_states)\n",
    "\n",
    "count = 0\n",
    "for t in np.arange(terminal_time):\n",
    "    \n",
    "    # 1. pick at\n",
    "    # epsilon greedy action\n",
    "    if np.random.rand() < epsilon:\n",
    "        count += 1\n",
    "        #print count/t\n",
    "        at = np.random.randint(0, n_actions)\n",
    "    else:\n",
    "        at = np.argmax(Q[St,:])\n",
    "    #print at\n",
    "    \n",
    "    # 2. execute at and figure out where you end up, in which S(t+1)\n",
    "    Stplus = np.random.choice(n_states, 1, p=P[at,St,:])  \n",
    "    #print St,Stplus\n",
    "    \n",
    "    # 3. update Q value\n",
    "    Q[at,St] = update_Q(Q,at,St,Stplus,c_ijk)\n",
    "    \n",
    "    c_ijk[at,St,Stplus] += 1\n",
    "    St = Stplus[0]\n",
    "\n",
    "    \n",
    "    \n",
    "# construct the final experimental transition matrix    \n",
    "for i,j in product(np.arange(n_actions), np.arange(n_states)):\n",
    "    c_ij = np.sum(c_ijk[i,j,:])\n",
    "    for k in np.arange(n_states):\n",
    "        P_experimental[i,j,k] = c_ijk[i,j,k]/c_ij\n",
    "        if c_ij == 0:\n",
    "            P_experimental[i,j,k] = 0\n",
    "\n",
    "\n",
    "\n",
    "print P\n",
    "print\n",
    "print\n",
    "print P_experimental"
   ]
  }
 ],
 "metadata": {
  "kernelspec": {
   "display_name": "Python 2",
   "language": "python",
   "name": "python2"
  },
  "language_info": {
   "codemirror_mode": {
    "name": "ipython",
    "version": 2
   },
   "file_extension": ".py",
   "mimetype": "text/x-python",
   "name": "python",
   "nbconvert_exporter": "python",
   "pygments_lexer": "ipython2",
   "version": "2.7.5"
  }
 },
 "nbformat": 4,
 "nbformat_minor": 0
}
